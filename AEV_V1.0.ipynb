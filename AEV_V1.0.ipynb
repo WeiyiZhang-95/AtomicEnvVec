{
 "cells": [
  {
   "cell_type": "code",
   "execution_count": 1,
   "metadata": {},
:x
   "source": [
    "__author__ = \"Weiyi, Zhang\" \n",
    "__version__ = \"1.0\" "
   ]
  },
  {
   "cell_type": "code",
   "execution_count": 57,
   "metadata": {},
   "outputs": [],
   "source": [
    "import numpy as np\n",
    "import pandas as pd\n",
    "import sys, os\n",
    "import gc\n",
    "import math\n",
    "\n",
    "cutoff_r = 6\n",
    "cutoff_theta = 6\n",
    "weight_lambda = 2\n",
    "\n",
    "_ifWeightByR_ = True\n",
    "_ifWeightBySinTheta_ = True\n",
    "_ifWeightByR0_ = False\n",
    "_ifWeightBySinTheta0_ = False\n",
    "\n",
    "###This code only works while 2*max(cutoffs) <= min(periods)\n",
    "\n",
    "with open('min10051','r') as f:\n",
    "    lines = f.readlines()\n",
    "\n",
    "atoms = [line.split() for line in lines[26:]]\n",
    "lines.clear()\n",
    "df = pd.DataFrame(atoms)\n",
    "df.columns = [\"idx\", \"type\", \"x\", \"y\",\"z\"]\n",
    "\n",
    "df['idx'] = [int(e) for e in df['idx']]\n",
    "df['type'] = [int(e) for e in df['type']]\n",
    "df['x'] = [float(e) for e in df['x']]\n",
    "df['y'] = [float(e) for e in df['y']]\n",
    "df['z'] = [float(e) for e in df['z']]\n",
    "positions = df[['x','y','z']].to_numpy()\n",
    "\n",
    "\n",
    "box = ['3.1781394890167824e+00 4.9274350212712889e+01 xlo xhi\\n',\n",
    " '3.1781394890167824e+00 4.9274350212712889e+01 ylo yhi\\n',\n",
    " '3.1781394890167824e+00 4.9274350212712889e+01 zlo zhi\\n']\n",
    "for i in range(3):\n",
    "    box[i] = [float(e) for e in box[i].split()[:2]]\n",
    "box = np.array(box)\n",
    "box = box[:,1]-box[:,0]\n",
    "\n",
    "def distance(p1,p2=[0,0,0]):\n",
    "    t = np.array(p1)-np.array(p2)\n",
    "    return np.dot(t,t)**0.5"
   ]
  },
  {
   "cell_type": "code",
   "execution_count": 3,
   "metadata": {},
   "outputs": [],
   "source": [
    "v_matrix = np.zeros((len(positions),len(positions),len(positions[0])))\n",
    "d_matrix = np.zeros((len(positions),len(positions)))\n",
    "d2_matrix = np.zeros((len(positions),len(positions)))"
   ]
  },
  {
   "cell_type": "code",
   "execution_count": 4,
   "metadata": {
    "scrolled": true
   },
   "outputs": [],
   "source": [
    "for i in range(len(positions)):\n",
    "    v_matrix[i,:,:] = positions[:] - positions[i]\n",
    "v_matrix = np.absolute(v_matrix)\n",
    "v_matrix = np.minimum(box - v_matrix, v_matrix)\n",
    "#v_matrix"
   ]
  },
  {
   "cell_type": "code",
   "execution_count": 5,
   "metadata": {},
   "outputs": [
    {
     "name": "stdout",
     "output_type": "stream",
     "text": [
      "0\n",
      "500\n",
      "1000\n",
      "1500\n",
      "2000\n",
      "2500\n",
      "3000\n",
      "3500\n",
      "4000\n",
      "4500\n",
      "5000\n",
      "5500\n",
      "6000\n",
      "6500\n",
      "7000\n",
      "7500\n"
     ]
    }
   ],
   "source": [
    "for i in range(len(positions)):\n",
    "    for j in range(i):\n",
    "        d2_matrix[i,j] = d2_matrix[j,i] = np.dot(v_matrix[i,j,:],v_matrix[i,j,:])\n",
    "        d_matrix[i,j] = d_matrix[j,i] = d2_matrix[i,j]**0.5\n",
    "    if i%500 == 0:\n",
    "        print(i)"
   ]
  },
  {
   "cell_type": "code",
   "execution_count": 6,
   "metadata": {},
   "outputs": [],
   "source": [
    "np.save('vectors.npy',v_matrix)\n",
    "np.save('d_matrix.npy',d_matrix)\n",
    "np.save('d2_matrix.npy',d2_matrix)"
   ]
  },
  {
   "cell_type": "code",
   "execution_count": null,
   "metadata": {},
   "outputs": [],
   "source": [
    "#d_matrix.shape, d_matrix, d2_matrix.shape, d2_matrix"
   ]
  },
  {
   "cell_type": "code",
   "execution_count": 34,
   "metadata": {},
   "outputs": [],
   "source": [
    "type_idxs = []\n",
    "for i in set(df['type']):\n",
    "    type_idxs.append(np.array(df[df[\"type\"] == i]['idx'])-1)"
   ]
  },
  {
   "cell_type": "code",
   "execution_count": 8,
   "metadata": {},
   "outputs": [],
   "source": [
    "typN=len(type_idxs)\n",
    "MuR=np.linspace(1,6,10)\n",
    "MuS=np.linspace(0,np.pi,10)\n",
    "SigmaR=0.3\n",
    "SigmaS=0.3\n",
    "import math\n",
    "def gaussian(x, mu, sig = SigmaS):\n",
    "    return np.exp( - ( (np.array(x) - mu) / sig)**2 / 2) / (sig*(2*math.pi)**0.5)\n",
    "AEV = np.zeros((len(positions),typN,typN,len(MuR)+len(MuS)))"
   ]
  },
  {
   "cell_type": "code",
   "execution_count": 58,
   "metadata": {},
   "outputs": [
    {
     "name": "stdout",
     "output_type": "stream",
     "text": [
      "0\n",
      "500\n",
      "1000\n",
      "1500\n",
      "2000\n",
      "2500\n",
      "3000\n"
     ]
    },
    {
     "ename": "KeyboardInterrupt",
     "evalue": "",
     "output_type": "error",
     "traceback": [
      "\u001b[0;31m---------------------------------------------------------------------------\u001b[0m",
      "\u001b[0;31mKeyboardInterrupt\u001b[0m                         Traceback (most recent call last)",
      "\u001b[0;32m<ipython-input-58-501a08065463>\u001b[0m in \u001b[0;36m<module>\u001b[0;34m\u001b[0m\n\u001b[1;32m      4\u001b[0m         \u001b[0;32mfor\u001b[0m \u001b[0midx\u001b[0m\u001b[0;34m,\u001b[0m \u001b[0mr\u001b[0m \u001b[0;32min\u001b[0m \u001b[0menumerate\u001b[0m\u001b[0;34m(\u001b[0m\u001b[0mMuR\u001b[0m\u001b[0;34m)\u001b[0m\u001b[0;34m:\u001b[0m\u001b[0;34m\u001b[0m\u001b[0;34m\u001b[0m\u001b[0m\n\u001b[1;32m      5\u001b[0m             \u001b[0;32mif\u001b[0m \u001b[0m_ifWeightByR_\u001b[0m\u001b[0;34m:\u001b[0m\u001b[0;34m\u001b[0m\u001b[0;34m\u001b[0m\u001b[0m\n\u001b[0;32m----> 6\u001b[0;31m                 \u001b[0mAEV\u001b[0m\u001b[0;34m[\u001b[0m\u001b[0matom_idx\u001b[0m\u001b[0;34m,\u001b[0m \u001b[0mtype1\u001b[0m\u001b[0;34m,\u001b[0m \u001b[0;34m:\u001b[0m\u001b[0;34m,\u001b[0m \u001b[0midx\u001b[0m\u001b[0;34m]\u001b[0m\u001b[0;34m=\u001b[0m\u001b[0msum\u001b[0m\u001b[0;34m(\u001b[0m\u001b[0mgaussian\u001b[0m\u001b[0;34m(\u001b[0m\u001b[0md_type1\u001b[0m\u001b[0;34m,\u001b[0m \u001b[0mr\u001b[0m\u001b[0;34m,\u001b[0m \u001b[0msig\u001b[0m \u001b[0;34m=\u001b[0m \u001b[0mSigmaR\u001b[0m\u001b[0;34m)\u001b[0m\u001b[0;34m/\u001b[0m\u001b[0mnp\u001b[0m\u001b[0;34m.\u001b[0m\u001b[0marray\u001b[0m\u001b[0;34m(\u001b[0m\u001b[0md_type1\u001b[0m\u001b[0;34m)\u001b[0m\u001b[0;34m)\u001b[0m\u001b[0;34m\u001b[0m\u001b[0;34m\u001b[0m\u001b[0m\n\u001b[0m\u001b[1;32m      7\u001b[0m             \u001b[0;32melse\u001b[0m\u001b[0;34m:\u001b[0m\u001b[0;34m\u001b[0m\u001b[0;34m\u001b[0m\u001b[0m\n\u001b[1;32m      8\u001b[0m                 \u001b[0mAEV\u001b[0m\u001b[0;34m[\u001b[0m\u001b[0matom_idx\u001b[0m\u001b[0;34m,\u001b[0m \u001b[0mtype1\u001b[0m\u001b[0;34m,\u001b[0m \u001b[0;34m:\u001b[0m\u001b[0;34m,\u001b[0m \u001b[0midx\u001b[0m\u001b[0;34m]\u001b[0m \u001b[0;34m=\u001b[0m \u001b[0msum\u001b[0m\u001b[0;34m(\u001b[0m\u001b[0mgaussian\u001b[0m\u001b[0;34m(\u001b[0m\u001b[0md_type1\u001b[0m\u001b[0;34m,\u001b[0m \u001b[0mr\u001b[0m\u001b[0;34m,\u001b[0m \u001b[0msig\u001b[0m \u001b[0;34m=\u001b[0m \u001b[0mSigmaR\u001b[0m\u001b[0;34m)\u001b[0m\u001b[0;34m)\u001b[0m\u001b[0;34m\u001b[0m\u001b[0;34m\u001b[0m\u001b[0m\n",
      "\u001b[0;32m<ipython-input-8-cdfa25aa0a9e>\u001b[0m in \u001b[0;36mgaussian\u001b[0;34m(x, mu, sig)\u001b[0m\n\u001b[1;32m      6\u001b[0m \u001b[0;32mimport\u001b[0m \u001b[0mmath\u001b[0m\u001b[0;34m\u001b[0m\u001b[0;34m\u001b[0m\u001b[0m\n\u001b[1;32m      7\u001b[0m \u001b[0;32mdef\u001b[0m \u001b[0mgaussian\u001b[0m\u001b[0;34m(\u001b[0m\u001b[0mx\u001b[0m\u001b[0;34m,\u001b[0m \u001b[0mmu\u001b[0m\u001b[0;34m,\u001b[0m \u001b[0msig\u001b[0m \u001b[0;34m=\u001b[0m \u001b[0mSigmaS\u001b[0m\u001b[0;34m)\u001b[0m\u001b[0;34m:\u001b[0m\u001b[0;34m\u001b[0m\u001b[0;34m\u001b[0m\u001b[0m\n\u001b[0;32m----> 8\u001b[0;31m     \u001b[0;32mreturn\u001b[0m \u001b[0mnp\u001b[0m\u001b[0;34m.\u001b[0m\u001b[0mexp\u001b[0m\u001b[0;34m(\u001b[0m \u001b[0;34m-\u001b[0m \u001b[0;34m(\u001b[0m \u001b[0;34m(\u001b[0m\u001b[0mnp\u001b[0m\u001b[0;34m.\u001b[0m\u001b[0marray\u001b[0m\u001b[0;34m(\u001b[0m\u001b[0mx\u001b[0m\u001b[0;34m)\u001b[0m \u001b[0;34m-\u001b[0m \u001b[0mmu\u001b[0m\u001b[0;34m)\u001b[0m \u001b[0;34m/\u001b[0m \u001b[0msig\u001b[0m\u001b[0;34m)\u001b[0m\u001b[0;34m**\u001b[0m\u001b[0;36m2\u001b[0m \u001b[0;34m/\u001b[0m \u001b[0;36m2\u001b[0m\u001b[0;34m)\u001b[0m \u001b[0;34m/\u001b[0m \u001b[0;34m(\u001b[0m\u001b[0msig\u001b[0m\u001b[0;34m*\u001b[0m\u001b[0;34m(\u001b[0m\u001b[0;36m2\u001b[0m\u001b[0;34m*\u001b[0m\u001b[0mmath\u001b[0m\u001b[0;34m.\u001b[0m\u001b[0mpi\u001b[0m\u001b[0;34m)\u001b[0m\u001b[0;34m**\u001b[0m\u001b[0;36m0.5\u001b[0m\u001b[0;34m)\u001b[0m\u001b[0;34m\u001b[0m\u001b[0;34m\u001b[0m\u001b[0m\n\u001b[0m\u001b[1;32m      9\u001b[0m \u001b[0mAEV\u001b[0m \u001b[0;34m=\u001b[0m \u001b[0mnp\u001b[0m\u001b[0;34m.\u001b[0m\u001b[0mzeros\u001b[0m\u001b[0;34m(\u001b[0m\u001b[0;34m(\u001b[0m\u001b[0mlen\u001b[0m\u001b[0;34m(\u001b[0m\u001b[0mpositions\u001b[0m\u001b[0;34m)\u001b[0m\u001b[0;34m,\u001b[0m\u001b[0mtypN\u001b[0m\u001b[0;34m,\u001b[0m\u001b[0mtypN\u001b[0m\u001b[0;34m,\u001b[0m\u001b[0mlen\u001b[0m\u001b[0;34m(\u001b[0m\u001b[0mMuR\u001b[0m\u001b[0;34m)\u001b[0m\u001b[0;34m+\u001b[0m\u001b[0mlen\u001b[0m\u001b[0;34m(\u001b[0m\u001b[0mMuS\u001b[0m\u001b[0;34m)\u001b[0m\u001b[0;34m)\u001b[0m\u001b[0;34m)\u001b[0m\u001b[0;34m\u001b[0m\u001b[0;34m\u001b[0m\u001b[0m\n",
      "\u001b[0;31mKeyboardInterrupt\u001b[0m: "
     ]
    }
   ],
   "source": [
    "for atom_idx in range(len(positions)):\n",
    "    for type1 in range(typN):\n",
    "        d_type1 = [d for d in d_matrix[atom_idx,type_idxs[type1]] if d <= cutoff_r and d != 0.0]\n",
    "        for idx, r in enumerate(MuR):\n",
    "            if _ifWeightByR_:\n",
    "                AEV[atom_idx, type1, :, idx]=sum(gaussian(d_type1, r, sig = SigmaR)/np.array(d_type1))\n",
    "            else:\n",
    "                AEV[atom_idx, type1, :, idx] = sum(gaussian(d_type1, r, sig = SigmaR))\n",
    "                if _ifWeightByR0_:\n",
    "                    AEV[atom_idx, type1, :, idx]=AEV[atom_idx, type1, :, idx]/r\n",
    "    if atom_idx%500 == 0:\n",
    "        print(atom_idx)"
   ]
  },
  {
   "cell_type": "code",
   "execution_count": null,
   "metadata": {},
   "outputs": [],
   "source": [
    "AEV[:,:,0,:,0],AEV[0,:,0,:,0]"
   ]
  },
  {
   "cell_type": "code",
   "execution_count": 59,
   "metadata": {},
   "outputs": [
    {
     "name": "stdout",
     "output_type": "stream",
     "text": [
      "0 1582080177.686265\n",
      "50 1582080182.4282143\n",
      "100 1582080187.2123263\n"
     ]
    },
    {
     "ename": "KeyboardInterrupt",
     "evalue": "",
     "output_type": "error",
     "traceback": [
      "\u001b[0;31m---------------------------------------------------------------------------\u001b[0m",
      "\u001b[0;31mKeyboardInterrupt\u001b[0m                         Traceback (most recent call last)",
      "\u001b[0;32m<ipython-input-59-6e6bb24a54bc>\u001b[0m in \u001b[0;36m<module>\u001b[0;34m\u001b[0m\n\u001b[1;32m     13\u001b[0m                     \u001b[0md_12\u001b[0m \u001b[0;34m=\u001b[0m \u001b[0md2_matrix\u001b[0m\u001b[0;34m[\u001b[0m\u001b[0matom2_idx\u001b[0m\u001b[0;34m,\u001b[0m\u001b[0matom1_idx\u001b[0m\u001b[0;34m]\u001b[0m\u001b[0;34m\u001b[0m\u001b[0;34m\u001b[0m\u001b[0m\n\u001b[1;32m     14\u001b[0m                     \u001b[0;31m#print((-d_12+atom1_d2+atom2_d2)/2.0/atom1_d/atom2_d)\u001b[0m\u001b[0;34m\u001b[0m\u001b[0;34m\u001b[0m\u001b[0;34m\u001b[0m\u001b[0m\n\u001b[0;32m---> 15\u001b[0;31m                     \u001b[0mtheta\u001b[0m \u001b[0;34m=\u001b[0m \u001b[0mnp\u001b[0m\u001b[0;34m.\u001b[0m\u001b[0marccos\u001b[0m\u001b[0;34m(\u001b[0m\u001b[0;34m(\u001b[0m\u001b[0;34m-\u001b[0m\u001b[0md_12\u001b[0m\u001b[0;34m+\u001b[0m\u001b[0matom1_d2\u001b[0m\u001b[0;34m+\u001b[0m\u001b[0matom2_d2\u001b[0m\u001b[0;34m)\u001b[0m\u001b[0;34m/\u001b[0m\u001b[0;36m2.0\u001b[0m\u001b[0;34m/\u001b[0m\u001b[0matom1_d\u001b[0m\u001b[0;34m/\u001b[0m\u001b[0matom2_d\u001b[0m\u001b[0;34m)\u001b[0m\u001b[0;34m\u001b[0m\u001b[0;34m\u001b[0m\u001b[0m\n\u001b[0m\u001b[1;32m     16\u001b[0m                     \u001b[0mangles\u001b[0m\u001b[0;34m.\u001b[0m\u001b[0mappend\u001b[0m\u001b[0;34m(\u001b[0m\u001b[0mtheta\u001b[0m\u001b[0;34m)\u001b[0m\u001b[0;34m\u001b[0m\u001b[0;34m\u001b[0m\u001b[0m\n\u001b[1;32m     17\u001b[0m                     \u001b[0mweights\u001b[0m\u001b[0;34m.\u001b[0m\u001b[0mappend\u001b[0m\u001b[0;34m(\u001b[0m\u001b[0mmath\u001b[0m\u001b[0;34m.\u001b[0m\u001b[0mexp\u001b[0m\u001b[0;34m(\u001b[0m\u001b[0;34m-\u001b[0m\u001b[0;34m(\u001b[0m\u001b[0matom1_d\u001b[0m\u001b[0;34m+\u001b[0m\u001b[0matom2_d\u001b[0m\u001b[0;34m)\u001b[0m\u001b[0;34m/\u001b[0m\u001b[0mweight_lambda\u001b[0m\u001b[0;34m)\u001b[0m\u001b[0;34m)\u001b[0m\u001b[0;34m\u001b[0m\u001b[0;34m\u001b[0m\u001b[0m\n",
      "\u001b[0;31mKeyboardInterrupt\u001b[0m: "
     ]
    }
   ],
   "source": [
    "import time\n",
    "for atom_idx in range(len(positions)):\n",
    "    for type1 in range(typN):\n",
    "        for type2 in range(type1+1):\n",
    "            weights = []\n",
    "            angles = []\n",
    "            d_type1 = [[i,d2,d] for i, d2, d in zip(type_idxs[type1],d2_matrix[atom_idx,type_idxs[type1]],d_matrix[atom_idx,type_idxs[type1]]) if 0 < d <= cutoff_theta]\n",
    "            d_type2 = [[i,d2,d] for i, d2, d in zip(type_idxs[type1],d2_matrix[atom_idx,type_idxs[type1]],d_matrix[atom_idx,type_idxs[type1]]) if 0 < d <= cutoff_theta]\n",
    "            for atom1_idx, atom1_d2, atom1_d in d_type1:\n",
    "                for atom2_idx, atom2_d2, atom2_d in d_type2:\n",
    "                    if atom1_idx == atom2_idx:\n",
    "                        continue\n",
    "                    d_12 = d2_matrix[atom2_idx,atom1_idx]\n",
    "                    #print((-d_12+atom1_d2+atom2_d2)/2.0/atom1_d/atom2_d)\n",
    "                    theta = np.arccos((-d_12+atom1_d2+atom2_d2)/2.0/atom1_d/atom2_d)\n",
    "                    angles.append(theta)\n",
    "                    weights.append(math.exp(-(atom1_d+atom2_d)/weight_lambda))\n",
    "            for idx_s, l in enumerate(MuS):\n",
    "                AEV[atom_idx, type1, type2, idx_s+10] = sum(gaussian(angles, l, sig = SigmaS)*np.array(weights))\n",
    "                if _ifWeightBySinTheta_:\n",
    "                    AEV[atom_idx, type1, type2, idx_s+10] = sum(gaussian(angles, l, sig = SigmaS)*np.array(weights)/np.sin(angles))\n",
    "                else:\n",
    "                    AEV[atom_idx, type1, type2, idx_s+10] = sum(gaussian(angles, l, sig = SigmaS)*np.array(weights))\n",
    "                    if _ifWeightBySinTheta0_:\n",
    "                        AEV[atom_idx, type1, type2, idx_s+10] = AEV[atom_idx, type1, type2, idx_s+10]/math.sin(l)\n",
    "    \n",
    "    if atom_idx%50 == 0:\n",
    "        print(atom_idx,time.time())"
   ]
  },
  {
   "cell_type": "code",
   "execution_count": 77,
   "metadata": {},
   "outputs": [
    {
     "data": {
      "text/plain": [
       "(array([[2.73176240e-11, 1.60104057e-06, 3.04096679e-03, 1.87185106e-01,\n",
       "         3.74001398e-01, 1.10591467e-01, 8.98961520e-01, 1.63298908e+00,\n",
       "         1.24832286e+00, 4.20491652e-01],\n",
       "        [8.38284020e-07, 3.57776946e-03, 5.42924756e-01, 3.47760712e+00,\n",
       "         1.83693116e+00, 1.08369870e+00, 3.38522084e+00, 4.25533717e+00,\n",
       "         3.48128220e+00, 9.86675189e-01],\n",
       "        [3.75696917e-05, 2.61307833e-02, 7.61280203e-01, 1.58674956e+00,\n",
       "         3.97910279e-01, 7.04530266e-03, 5.11235587e-06, 1.27976702e-10,\n",
       "         1.05607332e-16, 2.83770113e-24],\n",
       "        [1.11366384e-24, 4.59128609e-17, 6.13429303e-11, 2.65610113e-06,\n",
       "         3.72713067e-03, 1.69494089e-01, 2.49795390e-01, 1.19306528e-02,\n",
       "         1.84668967e-05, 9.26346696e-10]]),\n",
       " array([[3.98895779e-04, 1.33705672e-01, 1.80628305e+00, 1.14702342e+00,\n",
       "         1.83610566e-01, 7.19472213e-01, 1.66526131e+00, 1.50348236e+00,\n",
       "         4.36005799e-01, 2.20657424e-01],\n",
       "        [1.16656620e-04, 5.93739893e-02, 1.15024133e+00, 1.57004120e+00,\n",
       "         1.39402781e+00, 2.48004138e+00, 2.62737069e+00, 2.01760255e+00,\n",
       "         2.67155315e+00, 2.16823096e+00],\n",
       "        [1.19076054e-03, 1.87772018e-01, 1.17130557e+00, 3.21209239e-01,\n",
       "         2.77153146e-01, 7.30418090e-01, 1.22124668e+00, 4.30131112e-01,\n",
       "         3.39493514e-01, 2.27953824e-01],\n",
       "        [1.74267527e-22, 2.87624662e-15, 1.53845820e-09, 2.66682922e-05,\n",
       "         1.49814771e-02, 2.72749515e-01, 1.60924907e-01, 3.07703524e-03,\n",
       "         1.90674053e-06, 3.82913476e-11]]),\n",
       " array([[1.28063554e-05, 1.38912834e-02, 5.49901362e-01, 8.43043463e-01,\n",
       "         5.23009375e-02, 2.29949463e-01, 1.81705297e+00, 2.10177786e+00,\n",
       "         2.03100504e+00, 9.03551680e-01],\n",
       "        [1.65092902e-05, 2.29330883e-02, 1.21163040e+00, 3.70042665e+00,\n",
       "         1.72794073e+00, 1.67467816e+00, 2.89577121e+00, 2.92510620e+00,\n",
       "         2.24833610e+00, 1.04652555e+00],\n",
       "        [9.10015114e-26, 5.81461665e-18, 1.20404840e-11, 8.08032450e-07,\n",
       "         1.75872333e-03, 1.26813113e-01, 4.89896908e-01, 5.36084860e-01,\n",
       "         2.91121384e-01, 3.32841568e-01],\n",
       "        [4.58525683e-48, 5.18516255e-37, 1.90026052e-27, 2.25698288e-19,\n",
       "         8.68941989e-13, 1.08582848e-07, 4.44215480e-04, 6.28630827e-02,\n",
       "         4.00819361e-01, 1.79685283e-01]]),\n",
       " array([[8.34912970e-11, 4.89328625e-06, 9.29415608e-03, 5.72097057e-01,\n",
       "         1.14380249e+00, 4.48806232e-01, 4.10471731e+00, 7.93263428e+00,\n",
       "         6.75845352e+00, 2.36036767e+00],\n",
       "        [2.20266915e-06, 9.43594743e-03, 1.44428203e+00, 9.51303094e+00,\n",
       "         5.50479071e+00, 4.27484110e+00, 1.50212554e+01, 2.08611460e+01,\n",
       "         1.85891290e+01, 5.59762586e+00],\n",
       "        [8.75183552e-05, 6.14260570e-02, 1.84427224e+00, 4.14798220e+00,\n",
       "         1.11620391e+00, 2.02445828e-02, 1.47833849e-05, 3.70698601e-10,\n",
       "         3.06046799e-16, 8.22465019e-24],\n",
       "        [4.58649427e-24, 1.89086748e-16, 2.52633685e-10, 1.09388419e-05,\n",
       "         1.53497518e-02, 6.98041584e-01, 1.02875310e+00, 4.91349983e-02,\n",
       "         7.60537544e-05, 3.81505054e-09]]),\n",
       " array([[8.81664635e-04, 2.98532764e-01, 4.12258147e+00, 2.69432839e+00,\n",
       "         6.30930227e-01, 2.82031208e+00, 7.35442516e+00, 7.20041527e+00,\n",
       "         2.25993468e+00, 1.29575737e+00],\n",
       "        [2.66394738e-04, 1.36174368e-01, 2.70246987e+00, 4.02089441e+00,\n",
       "         4.74096464e+00, 9.37816066e+00, 1.14369652e+01, 9.64861516e+00,\n",
       "         1.49257128e+01, 1.24688170e+01],\n",
       "        [2.48558892e-03, 3.96332648e-01, 2.52008110e+00, 7.17640062e-01,\n",
       "         9.67447697e-01, 2.86971213e+00, 5.23731370e+00, 2.00232880e+00,\n",
       "         1.86005030e+00, 1.32052658e+00],\n",
       "        [6.91856329e-22, 1.14189343e-14, 6.10780484e-09, 1.05875300e-04,\n",
       "         5.94776888e-02, 1.08283788e+00, 6.38885037e-01, 1.22160815e-02,\n",
       "         7.56991580e-06, 1.52019781e-10]]),\n",
       " array([[3.07831118e-05, 3.35869878e-02, 1.34308900e+00, 2.08587385e+00,\n",
       "         1.33694361e-01, 9.96800192e-01, 8.11219912e+00, 1.02836534e+01,\n",
       "         1.09151985e+01, 5.23876916e+00],\n",
       "        [4.03406803e-05, 5.63846988e-02, 3.03211243e+00, 9.87978945e+00,\n",
       "         5.18889950e+00, 6.61130221e+00, 1.26322840e+01, 1.41821000e+01,\n",
       "         1.21595970e+01, 6.02575581e+00],\n",
       "        [3.81238605e-25, 2.43595553e-17, 5.04419970e-11, 3.38515634e-06,\n",
       "         7.36872188e-03, 5.32891296e-01, 2.16827132e+00, 2.55040932e+00,\n",
       "         1.62073654e+00, 1.94378337e+00],\n",
       "        [2.47645276e-47, 2.80045616e-36, 1.02631267e-26, 1.21897775e-18,\n",
       "         4.69315454e-12, 5.86515529e-07, 2.40107983e-03, 3.41213049e-01,\n",
       "         2.21344083e+00, 1.01570669e+00]]))"
      ]
     },
     "execution_count": 77,
     "metadata": {},
     "output_type": "execute_result"
    }
   ],
   "source": [
    "AEV[150,:,0,:10],AEV[35,:,0,:10],AEV[24,:,0,:10],x[150,:,0,:10],x[35,:,0,:10],x[24,:,0,:10]"
   ]
  },
  {
   "cell_type": "code",
   "execution_count": 81,
   "metadata": {},
   "outputs": [
    {
     "data": {
      "text/plain": [
       "(array([4.76317438, 3.1175442 , 1.46375615, 1.14686032, 1.08409468,\n",
       "        1.0943994 , 1.22325773, 1.79983046, 3.45660756, 4.79540249]),\n",
       " array([1.26295673, 1.24937743, 1.21873303, 1.1620719 , 1.09522865,\n",
       "        1.09005285, 1.20031169, 1.37248337, 1.49056263, 1.53312961]))"
      ]
     },
     "execution_count": 81,
     "metadata": {},
     "output_type": "execute_result"
    }
   ],
   "source": [
    "AEV[35,1,0,10:],AEV[24,1,0,10:],x[35,1,0,10:],x[24,1,0,10:],\n",
    "AEV[35,2,0,10:]/x[35,2,0,10:],AEV[24,2,0,10:]/x[24,2,0,10:]"
   ]
  },
  {
   "cell_type": "code",
   "execution_count": 21,
   "metadata": {},
   "outputs": [
    {
     "name": "stdout",
     "output_type": "stream",
     "text": [
      "[ 7.19545734 12.09847781  4.2024434   5.33231281 19.75141775  5.37809486\n",
      " 19.3764871  11.25388609 17.77650944  8.99317146] [12.28238293 20.22797216 16.89442047 14.63657573 18.11324582  6.19671895\n",
      " 18.1345141   9.56438585 17.1056857  15.15387423] [11.48904241 20.98271416 16.956888   14.55947498  7.80244477  2.29504313\n",
      "  8.60985413 13.65729368 13.45122604 18.02237968] [ 6.76363161 11.90504131  8.24956687 16.40734422  6.33532853 14.90366277\n",
      "  9.04674085  6.37472884  4.86467749 13.79476791] [15.35148379 17.55292147  5.25068997 13.57191049 21.30937823 11.84400119\n",
      "  8.52447962 19.51032046 19.4052164  13.41623914] [ 7.22381777 18.75831619 18.67889934  2.55788842  5.15229948  6.13149186\n",
      "  5.16611752  6.40666859  9.52483356  2.6883293 ]\n"
     ]
    }
   ],
   "source": [
    "print(d_matrix[100,:10],d_matrix[100,10:20],d_matrix[100,20:30],d_matrix[100,30:40],d_matrix[100,40:50],d_matrix[100,50:60])"
   ]
  },
  {
   "cell_type": "code",
   "execution_count": 40,
   "metadata": {},
   "outputs": [],
   "source": []
  },
  {
   "cell_type": "code",
   "execution_count": 53,
   "metadata": {},
   "outputs": [
    {
     "data": {
      "text/plain": [
       "array([4.79425539e-01, 8.41470985e-01, 9.09297427e-01, 1.00000000e+00,\n",
       "       1.22464680e-16])"
      ]
     },
     "execution_count": 53,
     "metadata": {},
     "output_type": "execute_result"
    }
   ],
   "source": [
    "np.sin([0.5,1,2,math.pi/2,math.pi])"
   ]
  },
  {
   "cell_type": "code",
   "execution_count": 61,
   "metadata": {},
   "outputs": [],
   "source": [
    "x = np.load('AEV.npy')"
   ]
  },
  {
   "cell_type": "code",
   "execution_count": 72,
   "metadata": {},
   "outputs": [
    {
     "data": {
      "text/plain": [
       "(array([6053]), array([7]))"
      ]
     },
     "execution_count": 72,
     "metadata": {},
     "output_type": "execute_result"
    }
   ],
   "source": [
    "np.where(x[:,-1,-1,:10]==x[:,-1,-1,:10].max())"
   ]
  },
  {
   "cell_type": "code",
   "execution_count": 73,
   "metadata": {},
   "outputs": [
    {
     "data": {
      "text/plain": [
       "array([[[8.36441823e-06, 1.71319276e-02, 1.40533963e+00, 5.01412250e+00,\n",
       "         7.90649579e-01, 6.47871060e-01, 2.41757880e+00, 5.27967275e+00,\n",
       "         6.73773202e+00, 1.11604987e+00, 8.64879554e-02, 2.55142972e-01,\n",
       "         7.86840813e-01, 1.29084879e+00, 1.19439359e+00, 1.38300669e+00,\n",
       "         1.60859586e+00, 1.12984985e+00, 4.66144400e-01, 1.57596482e-01],\n",
       "        [8.36441823e-06, 1.71319276e-02, 1.40533963e+00, 5.01412250e+00,\n",
       "         7.90649579e-01, 6.47871060e-01, 2.41757880e+00, 5.27967275e+00,\n",
       "         6.73773202e+00, 1.11604987e+00, 5.77162533e-01, 2.79319035e+00,\n",
       "         6.11457243e+00, 8.58283619e+00, 9.58031787e+00, 9.54419358e+00,\n",
       "         8.54984394e+00, 6.42367816e+00, 3.51896497e+00, 1.08129137e+00],\n",
       "        [8.36441823e-06, 1.71319276e-02, 1.40533963e+00, 5.01412250e+00,\n",
       "         7.90649579e-01, 6.47871060e-01, 2.41757880e+00, 5.27967275e+00,\n",
       "         6.73773202e+00, 1.11604987e+00, 4.66188057e-02, 1.64071226e-01,\n",
       "         2.91654843e-01, 3.00949110e-01, 2.08708431e-01, 1.96206202e-01,\n",
       "         2.28066788e-01, 1.70782191e-01, 9.62427026e-02, 2.55674350e-02],\n",
       "        [8.36441823e-06, 1.71319276e-02, 1.40533963e+00, 5.01412250e+00,\n",
       "         7.90649579e-01, 6.47871060e-01, 2.41757880e+00, 5.27967275e+00,\n",
       "         6.73773202e+00, 1.11604987e+00, 9.92585268e-03, 5.50719008e-02,\n",
       "         1.49807585e-01, 2.31813995e-01, 2.31374353e-01, 1.96966780e-01,\n",
       "         1.49129200e-01, 1.03300981e-01, 6.34389293e-02, 3.30363207e-02]],\n",
       "\n",
       "       [[3.31903012e-06, 1.11086302e-02, 1.45935183e+00, 8.47584075e+00,\n",
       "         2.77624685e+00, 4.63827064e+00, 1.65799996e+01, 1.80830932e+01,\n",
       "         1.03612353e+01, 2.34298180e+00, 5.77162533e-01, 2.79319035e+00,\n",
       "         6.11457243e+00, 8.58283619e+00, 9.58031787e+00, 9.54419358e+00,\n",
       "         8.54984394e+00, 6.42367816e+00, 3.51896497e+00, 1.08129137e+00],\n",
       "        [3.31903012e-06, 1.11086302e-02, 1.45935183e+00, 8.47584075e+00,\n",
       "         2.77624685e+00, 4.63827064e+00, 1.65799996e+01, 1.80830932e+01,\n",
       "         1.03612353e+01, 2.34298180e+00, 5.77162533e-01, 2.79319035e+00,\n",
       "         6.11457243e+00, 8.58283619e+00, 9.58031787e+00, 9.54419358e+00,\n",
       "         8.54984394e+00, 6.42367816e+00, 3.51896497e+00, 1.08129137e+00],\n",
       "        [3.31903012e-06, 1.11086302e-02, 1.45935183e+00, 8.47584075e+00,\n",
       "         2.77624685e+00, 4.63827064e+00, 1.65799996e+01, 1.80830932e+01,\n",
       "         1.03612353e+01, 2.34298180e+00, 4.66188057e-02, 1.64071226e-01,\n",
       "         2.91654843e-01, 3.00949110e-01, 2.08708431e-01, 1.96206202e-01,\n",
       "         2.28066788e-01, 1.70782191e-01, 9.62427026e-02, 2.55674350e-02],\n",
       "        [3.31903012e-06, 1.11086302e-02, 1.45935183e+00, 8.47584075e+00,\n",
       "         2.77624685e+00, 4.63827064e+00, 1.65799996e+01, 1.80830932e+01,\n",
       "         1.03612353e+01, 2.34298180e+00, 9.92585268e-03, 5.50719008e-02,\n",
       "         1.49807585e-01, 2.31813995e-01, 2.31374353e-01, 1.96966780e-01,\n",
       "         1.49129200e-01, 1.03300981e-01, 6.34389293e-02, 3.30363207e-02]],\n",
       "\n",
       "       [[1.02920456e-08, 1.52496809e-04, 7.34079606e-02, 1.22331325e+00,\n",
       "         1.76855023e+00, 1.47591657e+00, 2.32066999e+00, 1.23022915e+00,\n",
       "         2.95481010e+00, 1.46791357e+00, 4.66188057e-02, 1.64071226e-01,\n",
       "         2.91654843e-01, 3.00949110e-01, 2.08708431e-01, 1.96206202e-01,\n",
       "         2.28066788e-01, 1.70782191e-01, 9.62427026e-02, 2.55674350e-02],\n",
       "        [1.02920456e-08, 1.52496809e-04, 7.34079606e-02, 1.22331325e+00,\n",
       "         1.76855023e+00, 1.47591657e+00, 2.32066999e+00, 1.23022915e+00,\n",
       "         2.95481010e+00, 1.46791357e+00, 4.66188057e-02, 1.64071226e-01,\n",
       "         2.91654843e-01, 3.00949110e-01, 2.08708431e-01, 1.96206202e-01,\n",
       "         2.28066788e-01, 1.70782191e-01, 9.62427026e-02, 2.55674350e-02],\n",
       "        [1.02920456e-08, 1.52496809e-04, 7.34079606e-02, 1.22331325e+00,\n",
       "         1.76855023e+00, 1.47591657e+00, 2.32066999e+00, 1.23022915e+00,\n",
       "         2.95481010e+00, 1.46791357e+00, 4.66188057e-02, 1.64071226e-01,\n",
       "         2.91654843e-01, 3.00949110e-01, 2.08708431e-01, 1.96206202e-01,\n",
       "         2.28066788e-01, 1.70782191e-01, 9.62427026e-02, 2.55674350e-02],\n",
       "        [1.02920456e-08, 1.52496809e-04, 7.34079606e-02, 1.22331325e+00,\n",
       "         1.76855023e+00, 1.47591657e+00, 2.32066999e+00, 1.23022915e+00,\n",
       "         2.95481010e+00, 1.46791357e+00, 9.92585268e-03, 5.50719008e-02,\n",
       "         1.49807585e-01, 2.31813995e-01, 2.31374353e-01, 1.96966780e-01,\n",
       "         1.49129200e-01, 1.03300981e-01, 6.34389293e-02, 3.30363207e-02]],\n",
       "\n",
       "       [[1.40378759e-07, 9.14596778e-04, 1.93111377e-01, 1.32140510e+00,\n",
       "         2.93077585e-01, 4.43388410e-02, 1.64318449e+00, 4.76998052e+00,\n",
       "         2.60601399e+00, 1.53797319e+00, 9.92585268e-03, 5.50719008e-02,\n",
       "         1.49807585e-01, 2.31813995e-01, 2.31374353e-01, 1.96966780e-01,\n",
       "         1.49129200e-01, 1.03300981e-01, 6.34389293e-02, 3.30363207e-02],\n",
       "        [1.40378759e-07, 9.14596778e-04, 1.93111377e-01, 1.32140510e+00,\n",
       "         2.93077585e-01, 4.43388410e-02, 1.64318449e+00, 4.76998052e+00,\n",
       "         2.60601399e+00, 1.53797319e+00, 9.92585268e-03, 5.50719008e-02,\n",
       "         1.49807585e-01, 2.31813995e-01, 2.31374353e-01, 1.96966780e-01,\n",
       "         1.49129200e-01, 1.03300981e-01, 6.34389293e-02, 3.30363207e-02],\n",
       "        [1.40378759e-07, 9.14596778e-04, 1.93111377e-01, 1.32140510e+00,\n",
       "         2.93077585e-01, 4.43388410e-02, 1.64318449e+00, 4.76998052e+00,\n",
       "         2.60601399e+00, 1.53797319e+00, 9.92585268e-03, 5.50719008e-02,\n",
       "         1.49807585e-01, 2.31813995e-01, 2.31374353e-01, 1.96966780e-01,\n",
       "         1.49129200e-01, 1.03300981e-01, 6.34389293e-02, 3.30363207e-02],\n",
       "        [1.40378759e-07, 9.14596778e-04, 1.93111377e-01, 1.32140510e+00,\n",
       "         2.93077585e-01, 4.43388410e-02, 1.64318449e+00, 4.76998052e+00,\n",
       "         2.60601399e+00, 1.53797319e+00, 9.92585268e-03, 5.50719008e-02,\n",
       "         1.49807585e-01, 2.31813995e-01, 2.31374353e-01, 1.96966780e-01,\n",
       "         1.49129200e-01, 1.03300981e-01, 6.34389293e-02, 3.30363207e-02]]])"
      ]
     },
     "execution_count": 73,
     "metadata": {},
     "output_type": "execute_result"
    }
   ],
   "source": [
    "x[6053]"
   ]
  },
  {
   "cell_type": "code",
   "execution_count": null,
   "metadata": {},
   "outputs": [],
   "source": []
  }
 ],
 "metadata": {
  "kernelspec": {
   "display_name": "Python 3",
   "language": "python",
   "name": "python3"
  },
  "language_info": {
   "codemirror_mode": {
    "name": "ipython",
    "version": 3
   },
   "file_extension": ".py",
   "mimetype": "text/x-python",
   "name": "python",
   "nbconvert_exporter": "python",
   "pygments_lexer": "ipython3",
   "version": "3.7.5"
  }
 },
 "nbformat": 4,
 "nbformat_minor": 2
}
