{
 "cells": [
  {
   "cell_type": "code",
   "execution_count": null,
   "metadata": {},
   "outputs": [],
   "source": [
    "__author__ = \"Weiyi, Zhang\" \n",
    "__version__ = \"1.0\" "
   ]
  },
  {
   "cell_type": "code",
   "execution_count": 2,
   "metadata": {},
   "outputs": [],
   "source": [
    "import numpy as np\n",
    "import pandas as pd\n",
    "import sys, os\n",
    "import gc\n",
    "import math\n",
    "\n",
    "cutoff_r = 6\n",
    "cutoff_theta = 6\n",
    "###This code only works while 2*max(cutoffs) <= min(periods)\n",
    "\n",
    "###Angle calc are weighted by exp() function about distance of atoms as default\n",
    "\n",
    "with open('min10051','r') as f:\n",
    "    lines = f.readlines()\n",
    "\n",
    "atoms = [line.split() for line in lines[26:]]\n",
    "lines.clear()\n",
    "df = pd.DataFrame(atoms)\n",
    "df.columns = [\"idx\", \"type\", \"x\", \"y\",\"z\"]\n",
    "\n",
    "df['idx'] = [int(e) for e in df['idx']]\n",
    "df['type'] = [int(e) for e in df['type']]\n",
    "df['x'] = [float(e) for e in df['x']]\n",
    "df['y'] = [float(e) for e in df['y']]\n",
    "df['z'] = [float(e) for e in df['z']]\n",
    "positions = df[['x','y','z']].to_numpy()\n",
    "\n",
    "\n",
    "box = ['3.1781394890167824e+00 4.9274350212712889e+01 xlo xhi\\n',\n",
    " '3.1781394890167824e+00 4.9274350212712889e+01 ylo yhi\\n',\n",
    " '3.1781394890167824e+00 4.9274350212712889e+01 zlo zhi\\n']\n",
    "for i in range(3):\n",
    "    box[i] = [float(e) for e in box[i].split()[:2]]\n",
    "box = np.array(box)\n",
    "box = box[:,1]-box[:,0]\n",
    "\n",
    "def distance(p1,p2=[0,0,0]):\n",
    "    t = np.array(p1)-np.array(p2)\n",
    "    return np.dot(t,t)**0.5"
   ]
  },
  {
   "cell_type": "code",
   "execution_count": 2,
   "metadata": {},
   "outputs": [],
   "source": [
    "v_matrix = np.zeros((len(positions),len(positions),len(positions[0])))\n",
    "d_matrix = np.zeros((len(positions),len(positions)))\n",
    "d2_matrix = np.zeros((len(positions),len(positions)))"
   ]
  },
  {
   "cell_type": "code",
   "execution_count": 3,
   "metadata": {
    "scrolled": true
   },
   "outputs": [
    {
     "data": {
      "text/plain": [
       "array([[[ 0.        ,  0.        ,  0.        ],\n",
       "        [ 5.55971493,  5.40843398,  7.51967583],\n",
       "        [ 7.27689891,  0.45229072,  6.33110402],\n",
       "        ...,\n",
       "        [10.38777393,  4.26228294, 12.46817387],\n",
       "        [20.5692068 ,  2.17167227,  3.04268404],\n",
       "        [16.93482832,  2.41798734,  3.26979981]],\n",
       "\n",
       "       [[ 5.55971493,  5.40843398,  7.51967583],\n",
       "        [ 0.        ,  0.        ,  0.        ],\n",
       "        [12.83661384,  4.95614326,  1.18857181],\n",
       "        ...,\n",
       "        [15.94748886,  9.67071692, 19.9878497 ],\n",
       "        [19.96728899,  7.58010625, 10.56235987],\n",
       "        [11.37511339,  7.82642132, 10.78947564]],\n",
       "\n",
       "       [[ 7.27689891,  0.45229072,  6.33110402],\n",
       "        [12.83661384,  4.95614326,  1.18857181],\n",
       "        [ 0.        ,  0.        ,  0.        ],\n",
       "        ...,\n",
       "        [ 3.11087502,  4.71457366, 18.79927789],\n",
       "        [13.29230789,  2.62396299,  9.37378806],\n",
       "        [21.88448349,  2.87027806,  9.60090383]],\n",
       "\n",
       "       ...,\n",
       "\n",
       "       [[10.38777393,  4.26228294, 12.46817387],\n",
       "        [15.94748886,  9.67071692, 19.9878497 ],\n",
       "        [ 3.11087502,  4.71457366, 18.79927789],\n",
       "        ...,\n",
       "        [ 0.        ,  0.        ,  0.        ],\n",
       "        [10.18143287,  2.09061067,  9.42548983],\n",
       "        [18.77360847,  1.8442956 ,  9.19837406]],\n",
       "\n",
       "       [[20.5692068 ,  2.17167227,  3.04268404],\n",
       "        [19.96728899,  7.58010625, 10.56235987],\n",
       "        [13.29230789,  2.62396299,  9.37378806],\n",
       "        ...,\n",
       "        [10.18143287,  2.09061067,  9.42548983],\n",
       "        [ 0.        ,  0.        ,  0.        ],\n",
       "        [ 8.5921756 ,  0.24631507,  0.22711577]],\n",
       "\n",
       "       [[16.93482832,  2.41798734,  3.26979981],\n",
       "        [11.37511339,  7.82642132, 10.78947564],\n",
       "        [21.88448349,  2.87027806,  9.60090383],\n",
       "        ...,\n",
       "        [18.77360847,  1.8442956 ,  9.19837406],\n",
       "        [ 8.5921756 ,  0.24631507,  0.22711577],\n",
       "        [ 0.        ,  0.        ,  0.        ]]])"
      ]
     },
     "execution_count": 3,
     "metadata": {},
     "output_type": "execute_result"
    }
   ],
   "source": [
    "for i in range(len(positions)):\n",
    "    v_matrix[i,:,:] = positions[:] - positions[i]\n",
    "v_matrix = np.absolute(v_matrix)\n",
    "v_matrix = np.minimum(box - v_matrix, v_matrix)\n",
    "v_matrix"
   ]
  },
  {
   "cell_type": "code",
   "execution_count": 4,
   "metadata": {},
   "outputs": [
    {
     "name": "stdout",
     "output_type": "stream",
     "text": [
      "0\n",
      "500\n",
      "1000\n",
      "1500\n",
      "2000\n",
      "2500\n",
      "3000\n",
      "3500\n",
      "4000\n",
      "4500\n",
      "5000\n",
      "5500\n",
      "6000\n",
      "6500\n",
      "7000\n",
      "7500\n"
     ]
    }
   ],
   "source": [
    "for i in range(len(positions)):\n",
    "    for j in range(i):\n",
    "        d2_matrix[i,j] = d2_matrix[j,i] = np.dot(v_matrix[i,j,:],v_matrix[i,j,:])\n",
    "        d_matrix[i,j] = d_matrix[j,i] = d2_matrix[i,j]**0.5\n",
    "    if i%500 == 0:\n",
    "        print(i)"
   ]
  },
  {
   "cell_type": "code",
   "execution_count": null,
   "metadata": {},
   "outputs": [],
   "source": [
    "np.save('vectors.npy',v_matrix)\n",
    "np.save('d_matrix.npy',d_matrix)\n",
    "np.save('d2_matrix.npy',d2_matrix)"
   ]
  },
  {
   "cell_type": "code",
   "execution_count": null,
   "metadata": {},
   "outputs": [],
   "source": [
    "d_matrix.shape, d_matrix, d2_matrix.shape, d2_matrix"
   ]
  },
  {
   "cell_type": "code",
   "execution_count": 5,
   "metadata": {},
   "outputs": [],
   "source": [
    "type1_idx,type2_idx,type3_idx,type4_idx = np.array(df[df[\"type\"] == 1]['idx'])-1,np.array(df[df[\"type\"] == 2]['idx'])-1,np.array(df[df[\"type\"] == 3]['idx'])-1,np.array(df[df[\"type\"] == 4]['idx'])-1\n",
    "type_idxs = [type1_idx,type2_idx,type3_idx,type4_idx]"
   ]
  },
  {
   "cell_type": "code",
   "execution_count": 14,
   "metadata": {},
   "outputs": [
    {
     "data": {
      "text/plain": [
       "{1, 2, 3, 4}"
      ]
     },
     "execution_count": 14,
     "metadata": {},
     "output_type": "execute_result"
    }
   ],
   "source": [
    "set(df[\"type\"])"
   ]
  },
  {
   "cell_type": "code",
   "execution_count": 6,
   "metadata": {},
   "outputs": [],
   "source": [
    "typN=4\n",
    "MuR=np.linspace(1,6,10)\n",
    "MuS=np.linspace(0,np.pi,10)\n",
    "SigmaR=0.3\n",
    "SigmaS=0.3\n",
    "import math\n",
    "def gaussian(x, mu, sig = SigmaS):\n",
    "    return np.exp( - ( (np.array(x) - mu) / sig)**2 / 2) / (sig*(2*math.pi)**0.5)\n",
    "AEV = np.zeros((len(positions),typN,typN,len(MuR),len(MuS)+1))"
   ]
  },
  {
   "cell_type": "code",
   "execution_count": 7,
   "metadata": {},
   "outputs": [
    {
     "name": "stdout",
     "output_type": "stream",
     "text": [
      "0\n",
      "500\n",
      "1000\n",
      "1500\n",
      "2000\n",
      "2500\n",
      "3000\n",
      "3500\n",
      "4000\n",
      "4500\n",
      "5000\n",
      "5500\n",
      "6000\n",
      "6500\n",
      "7000\n",
      "7500\n"
     ]
    }
   ],
   "source": [
    "for atom_idx in range(len(positions)):\n",
    "    for type1 in range(typN):\n",
    "        for idx, r in enumerate(MuR):\n",
    "            d_type1 = [d for d in d_matrix[atom_idx,type_idxs[type1]] if d <= r and d != 0.0]\n",
    "            AEV[atom_idx, type1, :, idx, 0] = sum(gaussian(d_type1, r, sig = SigmaR))\n",
    "    if atom_idx%500 == 0:\n",
    "        print(atom_idx)"
   ]
  },
  {
   "cell_type": "code",
   "execution_count": 10,
   "metadata": {},
   "outputs": [
    {
     "data": {
      "text/plain": [
       "(array([[[0.00000000e+00, 0.00000000e+00, 0.00000000e+00, ...,\n",
       "          3.80554228e+00, 4.86258847e+00, 2.71827147e+00],\n",
       "         [0.00000000e+00, 0.00000000e+00, 0.00000000e+00, ...,\n",
       "          6.44969507e+00, 9.34874577e+00, 4.94970450e+00],\n",
       "         [0.00000000e+00, 0.00000000e+00, 0.00000000e+00, ...,\n",
       "          1.65204527e+00, 2.80426391e+00, 2.50226486e-01],\n",
       "         [0.00000000e+00, 0.00000000e+00, 0.00000000e+00, ...,\n",
       "          0.00000000e+00, 1.25209656e+00, 1.18539836e-01]],\n",
       " \n",
       "        [[0.00000000e+00, 0.00000000e+00, 0.00000000e+00, ...,\n",
       "          1.30707288e+00, 2.88863724e+00, 3.24585885e+00],\n",
       "         [0.00000000e+00, 0.00000000e+00, 0.00000000e+00, ...,\n",
       "          1.18879606e+01, 8.84204252e+00, 3.92363356e+00],\n",
       "         [0.00000000e+00, 0.00000000e+00, 0.00000000e+00, ...,\n",
       "          2.35195698e+00, 8.52234342e-01, 8.17163778e-03],\n",
       "         [0.00000000e+00, 0.00000000e+00, 0.00000000e+00, ...,\n",
       "          0.00000000e+00, 2.47298128e-01, 1.49063126e-03]],\n",
       " \n",
       "        [[0.00000000e+00, 0.00000000e+00, 0.00000000e+00, ...,\n",
       "          2.30933164e+00, 3.06628785e+00, 2.08419977e+00],\n",
       "         [0.00000000e+00, 0.00000000e+00, 0.00000000e+00, ...,\n",
       "          8.65763062e+00, 1.14002761e+01, 4.68132202e+00],\n",
       "         [0.00000000e+00, 0.00000000e+00, 0.00000000e+00, ...,\n",
       "          1.13188331e+00, 2.34094332e+00, 1.91931737e+00],\n",
       "         [0.00000000e+00, 0.00000000e+00, 0.00000000e+00, ...,\n",
       "          0.00000000e+00, 0.00000000e+00, 4.37300159e-01]],\n",
       " \n",
       "        ...,\n",
       " \n",
       "        [[0.00000000e+00, 0.00000000e+00, 0.00000000e+00, ...,\n",
       "          5.19133556e+00, 8.61169375e-01, 1.29039363e+00],\n",
       "         [0.00000000e+00, 0.00000000e+00, 0.00000000e+00, ...,\n",
       "          1.00624595e+01, 1.09810839e+01, 1.36745369e+01],\n",
       "         [0.00000000e+00, 0.00000000e+00, 0.00000000e+00, ...,\n",
       "          1.15997465e+00, 1.31148860e+00, 1.07802660e-01],\n",
       "         [0.00000000e+00, 0.00000000e+00, 0.00000000e+00, ...,\n",
       "          5.63304594e-01, 7.14329569e-01, 1.57835236e-02]],\n",
       " \n",
       "        [[0.00000000e+00, 0.00000000e+00, 0.00000000e+00, ...,\n",
       "          2.89617552e+00, 2.24099886e+00, 3.53117837e+00],\n",
       "         [0.00000000e+00, 0.00000000e+00, 0.00000000e+00, ...,\n",
       "          6.59918141e+00, 7.18501063e+00, 9.79494959e+00],\n",
       "         [0.00000000e+00, 0.00000000e+00, 0.00000000e+00, ...,\n",
       "          1.47991219e+00, 3.57870387e-02, 2.95446740e-05],\n",
       "         [0.00000000e+00, 0.00000000e+00, 0.00000000e+00, ...,\n",
       "          0.00000000e+00, 0.00000000e+00, 0.00000000e+00]],\n",
       " \n",
       "        [[0.00000000e+00, 0.00000000e+00, 0.00000000e+00, ...,\n",
       "          4.43036828e+00, 2.36849943e+00, 1.47676592e+00],\n",
       "         [0.00000000e+00, 0.00000000e+00, 0.00000000e+00, ...,\n",
       "          1.10322770e+01, 9.29653974e+00, 6.87453575e+00],\n",
       "         [0.00000000e+00, 0.00000000e+00, 0.00000000e+00, ...,\n",
       "          1.67737802e+00, 4.93926614e-01, 8.58203933e-01],\n",
       "         [0.00000000e+00, 0.00000000e+00, 0.00000000e+00, ...,\n",
       "          0.00000000e+00, 0.00000000e+00, 0.00000000e+00]]]),\n",
       " array([[0.00000000e+00, 0.00000000e+00, 0.00000000e+00, 1.79941803e+00,\n",
       "         7.26274745e-02, 1.05574165e-04, 2.22750014e+00, 3.80554228e+00,\n",
       "         4.86258847e+00, 2.71827147e+00],\n",
       "        [0.00000000e+00, 0.00000000e+00, 0.00000000e+00, 5.11531105e+00,\n",
       "         2.60358775e+00, 2.58887695e-02, 6.40049208e+00, 6.44969507e+00,\n",
       "         9.34874577e+00, 4.94970450e+00],\n",
       "        [0.00000000e+00, 0.00000000e+00, 0.00000000e+00, 5.57894849e-01,\n",
       "         8.74666046e-03, 4.44408247e-06, 8.33465528e-01, 1.65204527e+00,\n",
       "         2.80426391e+00, 2.50226486e-01],\n",
       "        [0.00000000e+00, 0.00000000e+00, 0.00000000e+00, 0.00000000e+00,\n",
       "         0.00000000e+00, 0.00000000e+00, 0.00000000e+00, 0.00000000e+00,\n",
       "         1.25209656e+00, 1.18539836e-01]]))"
      ]
     },
     "execution_count": 10,
     "metadata": {},
     "output_type": "execute_result"
    }
   ],
   "source": [
    "AEV[:,:,0,:,0],AEV[0,:,0,:,0]"
   ]
  },
  {
   "cell_type": "code",
   "execution_count": 13,
   "metadata": {},
   "outputs": [
    {
     "name": "stderr",
     "output_type": "stream",
     "text": [
      "/bigdata/greaneylab/wzhan097/.conda/envs/ML_cpu/lib/python3.7/site-packages/ipykernel_launcher.py:16: RuntimeWarning: invalid value encountered in arccos\n",
      "  app.launch_new_instance()\n"
     ]
    },
    {
     "name": "stdout",
     "output_type": "stream",
     "text": [
      "0 1581381617.9393182\n",
      "50 1581381643.233722\n",
      "100 1581381668.8218946\n",
      "150 1581381694.1889958\n",
      "200 1581381719.6752968\n",
      "250 1581381745.2874177\n",
      "300 1581381770.886327\n",
      "350 1581381796.5085862\n",
      "400 1581381822.0829616\n",
      "450 1581381847.6108203\n",
      "500 1581381873.3939133\n",
      "550 1581381899.07999\n",
      "600 1581381924.6360695\n",
      "650 1581381950.1807497\n",
      "700 1581381975.903687\n",
      "750 1581382001.542601\n",
      "800 1581382027.483959\n",
      "850 1581382053.1283395\n",
      "900 1581382078.566926\n",
      "950 1581382103.979829\n",
      "1000 1581382129.595432\n",
      "1050 1581382155.326986\n",
      "1100 1581382180.8160405\n",
      "1150 1581382206.5914056\n",
      "1200 1581382232.099827\n",
      "1250 1581382257.5167065\n",
      "1300 1581382283.06847\n",
      "1350 1581382308.4600568\n",
      "1400 1581382333.8970227\n",
      "1450 1581382359.2846746\n",
      "1500 1581382384.71559\n",
      "1550 1581382410.1681895\n",
      "1600 1581382435.7396023\n"
     ]
    },
    {
     "ename": "KeyboardInterrupt",
     "evalue": "",
     "output_type": "error",
     "traceback": [
      "\u001b[0;31m---------------------------------------------------------------------------\u001b[0m",
      "\u001b[0;31mKeyboardInterrupt\u001b[0m                         Traceback (most recent call last)",
      "\u001b[0;32m<ipython-input-13-305e4d7fe937>\u001b[0m in \u001b[0;36m<module>\u001b[0;34m\u001b[0m\n\u001b[1;32m      9\u001b[0m             \u001b[0;32mfor\u001b[0m \u001b[0midx_r\u001b[0m\u001b[0;34m,\u001b[0m \u001b[0mr\u001b[0m \u001b[0;32min\u001b[0m \u001b[0menumerate\u001b[0m\u001b[0;34m(\u001b[0m\u001b[0mMuR\u001b[0m\u001b[0;34m)\u001b[0m\u001b[0;34m:\u001b[0m\u001b[0;34m\u001b[0m\u001b[0;34m\u001b[0m\u001b[0m\n\u001b[1;32m     10\u001b[0m                 \u001b[0md_type1\u001b[0m \u001b[0;34m=\u001b[0m \u001b[0;34m[\u001b[0m\u001b[0;34m[\u001b[0m\u001b[0mi\u001b[0m\u001b[0;34m,\u001b[0m\u001b[0md2\u001b[0m\u001b[0;34m,\u001b[0m\u001b[0md\u001b[0m\u001b[0;34m]\u001b[0m \u001b[0;32mfor\u001b[0m \u001b[0mi\u001b[0m\u001b[0;34m,\u001b[0m \u001b[0md2\u001b[0m\u001b[0;34m,\u001b[0m \u001b[0md\u001b[0m \u001b[0;32min\u001b[0m \u001b[0mzip\u001b[0m\u001b[0;34m(\u001b[0m\u001b[0mtype_idxs\u001b[0m\u001b[0;34m[\u001b[0m\u001b[0mtype1\u001b[0m\u001b[0;34m]\u001b[0m\u001b[0;34m,\u001b[0m\u001b[0md2_matrix\u001b[0m\u001b[0;34m[\u001b[0m\u001b[0matom_idx\u001b[0m\u001b[0;34m,\u001b[0m\u001b[0mtype_idxs\u001b[0m\u001b[0;34m[\u001b[0m\u001b[0mtype1\u001b[0m\u001b[0;34m]\u001b[0m\u001b[0;34m]\u001b[0m\u001b[0;34m,\u001b[0m\u001b[0md_matrix\u001b[0m\u001b[0;34m[\u001b[0m\u001b[0matom_idx\u001b[0m\u001b[0;34m,\u001b[0m\u001b[0mtype_idxs\u001b[0m\u001b[0;34m[\u001b[0m\u001b[0mtype1\u001b[0m\u001b[0;34m]\u001b[0m\u001b[0;34m]\u001b[0m\u001b[0;34m)\u001b[0m \u001b[0;32mif\u001b[0m \u001b[0mpres_r\u001b[0m \u001b[0;34m<\u001b[0m \u001b[0md\u001b[0m \u001b[0;34m<=\u001b[0m \u001b[0mr\u001b[0m \u001b[0;32mand\u001b[0m \u001b[0md\u001b[0m \u001b[0;34m!=\u001b[0m \u001b[0;36m0.0\u001b[0m\u001b[0;34m]\u001b[0m\u001b[0;34m\u001b[0m\u001b[0;34m\u001b[0m\u001b[0m\n\u001b[0;32m---> 11\u001b[0;31m                 \u001b[0md_type2\u001b[0m \u001b[0;34m=\u001b[0m \u001b[0;34m[\u001b[0m\u001b[0;34m[\u001b[0m\u001b[0mi\u001b[0m\u001b[0;34m,\u001b[0m\u001b[0md2\u001b[0m\u001b[0;34m,\u001b[0m\u001b[0md\u001b[0m\u001b[0;34m]\u001b[0m \u001b[0;32mfor\u001b[0m \u001b[0mi\u001b[0m\u001b[0;34m,\u001b[0m \u001b[0md2\u001b[0m\u001b[0;34m,\u001b[0m \u001b[0md\u001b[0m \u001b[0;32min\u001b[0m \u001b[0mzip\u001b[0m\u001b[0;34m(\u001b[0m\u001b[0mtype_idxs\u001b[0m\u001b[0;34m[\u001b[0m\u001b[0mtype1\u001b[0m\u001b[0;34m]\u001b[0m\u001b[0;34m,\u001b[0m\u001b[0md2_matrix\u001b[0m\u001b[0;34m[\u001b[0m\u001b[0matom_idx\u001b[0m\u001b[0;34m,\u001b[0m\u001b[0mtype_idxs\u001b[0m\u001b[0;34m[\u001b[0m\u001b[0mtype1\u001b[0m\u001b[0;34m]\u001b[0m\u001b[0;34m]\u001b[0m\u001b[0;34m,\u001b[0m\u001b[0md_matrix\u001b[0m\u001b[0;34m[\u001b[0m\u001b[0matom_idx\u001b[0m\u001b[0;34m,\u001b[0m\u001b[0mtype_idxs\u001b[0m\u001b[0;34m[\u001b[0m\u001b[0mtype1\u001b[0m\u001b[0;34m]\u001b[0m\u001b[0;34m]\u001b[0m\u001b[0;34m)\u001b[0m \u001b[0;32mif\u001b[0m \u001b[0mpres_r\u001b[0m \u001b[0;34m<\u001b[0m \u001b[0md\u001b[0m \u001b[0;34m<=\u001b[0m \u001b[0mr\u001b[0m \u001b[0;32mand\u001b[0m \u001b[0md\u001b[0m \u001b[0;34m!=\u001b[0m \u001b[0;36m0.0\u001b[0m\u001b[0;34m]\u001b[0m\u001b[0;34m\u001b[0m\u001b[0;34m\u001b[0m\u001b[0m\n\u001b[0m\u001b[1;32m     12\u001b[0m                 \u001b[0;32mfor\u001b[0m \u001b[0matom1_idx\u001b[0m\u001b[0;34m,\u001b[0m \u001b[0matom1_d2\u001b[0m\u001b[0;34m,\u001b[0m \u001b[0matom1_d\u001b[0m \u001b[0;32min\u001b[0m \u001b[0md_type1\u001b[0m\u001b[0;34m:\u001b[0m\u001b[0;34m\u001b[0m\u001b[0;34m\u001b[0m\u001b[0m\n\u001b[1;32m     13\u001b[0m                     \u001b[0;32mfor\u001b[0m \u001b[0matom2_idx\u001b[0m\u001b[0;34m,\u001b[0m \u001b[0matom2_d2\u001b[0m\u001b[0;34m,\u001b[0m \u001b[0matom2_d\u001b[0m \u001b[0;32min\u001b[0m \u001b[0md_type2\u001b[0m\u001b[0;34m:\u001b[0m\u001b[0;34m\u001b[0m\u001b[0;34m\u001b[0m\u001b[0m\n",
      "\u001b[0;32m<ipython-input-13-305e4d7fe937>\u001b[0m in \u001b[0;36m<listcomp>\u001b[0;34m(.0)\u001b[0m\n\u001b[1;32m      9\u001b[0m             \u001b[0;32mfor\u001b[0m \u001b[0midx_r\u001b[0m\u001b[0;34m,\u001b[0m \u001b[0mr\u001b[0m \u001b[0;32min\u001b[0m \u001b[0menumerate\u001b[0m\u001b[0;34m(\u001b[0m\u001b[0mMuR\u001b[0m\u001b[0;34m)\u001b[0m\u001b[0;34m:\u001b[0m\u001b[0;34m\u001b[0m\u001b[0;34m\u001b[0m\u001b[0m\n\u001b[1;32m     10\u001b[0m                 \u001b[0md_type1\u001b[0m \u001b[0;34m=\u001b[0m \u001b[0;34m[\u001b[0m\u001b[0;34m[\u001b[0m\u001b[0mi\u001b[0m\u001b[0;34m,\u001b[0m\u001b[0md2\u001b[0m\u001b[0;34m,\u001b[0m\u001b[0md\u001b[0m\u001b[0;34m]\u001b[0m \u001b[0;32mfor\u001b[0m \u001b[0mi\u001b[0m\u001b[0;34m,\u001b[0m \u001b[0md2\u001b[0m\u001b[0;34m,\u001b[0m \u001b[0md\u001b[0m \u001b[0;32min\u001b[0m \u001b[0mzip\u001b[0m\u001b[0;34m(\u001b[0m\u001b[0mtype_idxs\u001b[0m\u001b[0;34m[\u001b[0m\u001b[0mtype1\u001b[0m\u001b[0;34m]\u001b[0m\u001b[0;34m,\u001b[0m\u001b[0md2_matrix\u001b[0m\u001b[0;34m[\u001b[0m\u001b[0matom_idx\u001b[0m\u001b[0;34m,\u001b[0m\u001b[0mtype_idxs\u001b[0m\u001b[0;34m[\u001b[0m\u001b[0mtype1\u001b[0m\u001b[0;34m]\u001b[0m\u001b[0;34m]\u001b[0m\u001b[0;34m,\u001b[0m\u001b[0md_matrix\u001b[0m\u001b[0;34m[\u001b[0m\u001b[0matom_idx\u001b[0m\u001b[0;34m,\u001b[0m\u001b[0mtype_idxs\u001b[0m\u001b[0;34m[\u001b[0m\u001b[0mtype1\u001b[0m\u001b[0;34m]\u001b[0m\u001b[0;34m]\u001b[0m\u001b[0;34m)\u001b[0m \u001b[0;32mif\u001b[0m \u001b[0mpres_r\u001b[0m \u001b[0;34m<\u001b[0m \u001b[0md\u001b[0m \u001b[0;34m<=\u001b[0m \u001b[0mr\u001b[0m \u001b[0;32mand\u001b[0m \u001b[0md\u001b[0m \u001b[0;34m!=\u001b[0m \u001b[0;36m0.0\u001b[0m\u001b[0;34m]\u001b[0m\u001b[0;34m\u001b[0m\u001b[0;34m\u001b[0m\u001b[0m\n\u001b[0;32m---> 11\u001b[0;31m                 \u001b[0md_type2\u001b[0m \u001b[0;34m=\u001b[0m \u001b[0;34m[\u001b[0m\u001b[0;34m[\u001b[0m\u001b[0mi\u001b[0m\u001b[0;34m,\u001b[0m\u001b[0md2\u001b[0m\u001b[0;34m,\u001b[0m\u001b[0md\u001b[0m\u001b[0;34m]\u001b[0m \u001b[0;32mfor\u001b[0m \u001b[0mi\u001b[0m\u001b[0;34m,\u001b[0m \u001b[0md2\u001b[0m\u001b[0;34m,\u001b[0m \u001b[0md\u001b[0m \u001b[0;32min\u001b[0m \u001b[0mzip\u001b[0m\u001b[0;34m(\u001b[0m\u001b[0mtype_idxs\u001b[0m\u001b[0;34m[\u001b[0m\u001b[0mtype1\u001b[0m\u001b[0;34m]\u001b[0m\u001b[0;34m,\u001b[0m\u001b[0md2_matrix\u001b[0m\u001b[0;34m[\u001b[0m\u001b[0matom_idx\u001b[0m\u001b[0;34m,\u001b[0m\u001b[0mtype_idxs\u001b[0m\u001b[0;34m[\u001b[0m\u001b[0mtype1\u001b[0m\u001b[0;34m]\u001b[0m\u001b[0;34m]\u001b[0m\u001b[0;34m,\u001b[0m\u001b[0md_matrix\u001b[0m\u001b[0;34m[\u001b[0m\u001b[0matom_idx\u001b[0m\u001b[0;34m,\u001b[0m\u001b[0mtype_idxs\u001b[0m\u001b[0;34m[\u001b[0m\u001b[0mtype1\u001b[0m\u001b[0;34m]\u001b[0m\u001b[0;34m]\u001b[0m\u001b[0;34m)\u001b[0m \u001b[0;32mif\u001b[0m \u001b[0mpres_r\u001b[0m \u001b[0;34m<\u001b[0m \u001b[0md\u001b[0m \u001b[0;34m<=\u001b[0m \u001b[0mr\u001b[0m \u001b[0;32mand\u001b[0m \u001b[0md\u001b[0m \u001b[0;34m!=\u001b[0m \u001b[0;36m0.0\u001b[0m\u001b[0;34m]\u001b[0m\u001b[0;34m\u001b[0m\u001b[0;34m\u001b[0m\u001b[0m\n\u001b[0m\u001b[1;32m     12\u001b[0m                 \u001b[0;32mfor\u001b[0m \u001b[0matom1_idx\u001b[0m\u001b[0;34m,\u001b[0m \u001b[0matom1_d2\u001b[0m\u001b[0;34m,\u001b[0m \u001b[0matom1_d\u001b[0m \u001b[0;32min\u001b[0m \u001b[0md_type1\u001b[0m\u001b[0;34m:\u001b[0m\u001b[0;34m\u001b[0m\u001b[0;34m\u001b[0m\u001b[0m\n\u001b[1;32m     13\u001b[0m                     \u001b[0;32mfor\u001b[0m \u001b[0matom2_idx\u001b[0m\u001b[0;34m,\u001b[0m \u001b[0matom2_d2\u001b[0m\u001b[0;34m,\u001b[0m \u001b[0matom2_d\u001b[0m \u001b[0;32min\u001b[0m \u001b[0md_type2\u001b[0m\u001b[0;34m:\u001b[0m\u001b[0;34m\u001b[0m\u001b[0;34m\u001b[0m\u001b[0m\n",
      "\u001b[0;31mKeyboardInterrupt\u001b[0m: "
     ]
    }
   ],
   "source": [
    "import time\n",
    "for atom_idx in range(len(positions)):\n",
    "    for type1 in range(typN):\n",
    "        for type2 in range(typN):\n",
    "            angles = []\n",
    "            pres_r = 0\n",
    "            pres_d_type1 = []\n",
    "            pres_d_type2 = []\n",
    "            for idx_r, r in enumerate(MuR):\n",
    "                d_type1 = [[i,d2,d] for i, d2, d in zip(type_idxs[type1],d2_matrix[atom_idx,type_idxs[type1]],d_matrix[atom_idx,type_idxs[type1]]) if pres_r < d <= r and d != 0.0]\n",
    "                d_type2 = [[i,d2,d] for i, d2, d in zip(type_idxs[type1],d2_matrix[atom_idx,type_idxs[type1]],d_matrix[atom_idx,type_idxs[type1]]) if pres_r < d <= r and d != 0.0]\n",
    "                for atom1_idx, atom1_d2, atom1_d in d_type1:\n",
    "                    for atom2_idx, atom2_d2, atom2_d in d_type2:\n",
    "                        d_12 = d2_matrix[atom2_idx,atom1_idx]\n",
    "                        #print((-d_12+atom1_d2+atom2_d2)/2.0/atom1_d/atom2_d)\n",
    "                        theta = np.arccos((-d_12+atom1_d2+atom2_d2)/2.0/atom1_d/atom2_d)\n",
    "                        angles.append(theta)\n",
    "                for atom1_idx, atom1_d2, atom1_d in pres_d_type1:\n",
    "                    for atom2_idx, atom2_d2, atom2_d in d_type2:\n",
    "                        d_12 = d2_matrix[atom2_idx,atom1_idx]\n",
    "                        #print((-d_12+atom1_d2+atom2_d2)/2.0/atom1_d/atom2_d)\n",
    "                        theta = np.arccos((-d_12+atom1_d2+atom2_d2)/2.0/atom1_d/atom2_d)\n",
    "                        angles.append(theta)\n",
    "                for atom1_idx, atom1_d2, atom1_d in d_type1:\n",
    "                    for atom2_idx, atom2_d2, atom2_d in pres_d_type2:\n",
    "                        d_12 = d2_matrix[atom2_idx,atom1_idx]\n",
    "                        #print((-d_12+atom1_d2+atom2_d2)/2.0/atom1_d/atom2_d)\n",
    "                        theta = np.arccos((-d_12+atom1_d2+atom2_d2)/2.0/atom1_d/atom2_d)\n",
    "                        angles.append(theta)\n",
    "                pres_d_type1 = d_type1\n",
    "                pres_d_type2 = d_type2\n",
    "                pres_r = r\n",
    "                for idx_s, l in enumerate(MuR):\n",
    "                    AEV[atom_idx, type1, type2, idx_r, idx_s+1] = sum(gaussian([angle for angle in angles if angle < l], l, sig = SigmaS))\n",
    "    \n",
    "    if atom_idx%50 == 0:\n",
    "        print(atom_idx,time.time())"
   ]
  },
  {
   "cell_type": "code",
   "execution_count": 12,
   "metadata": {},
   "outputs": [
    {
     "data": {
      "text/plain": [
       "(array([[[0.00000000e+00, 0.00000000e+00, 0.00000000e+00, ...,\n",
       "          3.80554228e+00, 4.86258847e+00, 2.71827147e+00],\n",
       "         [0.00000000e+00, 0.00000000e+00, 0.00000000e+00, ...,\n",
       "          6.44969507e+00, 9.34874577e+00, 4.94970450e+00],\n",
       "         [0.00000000e+00, 0.00000000e+00, 0.00000000e+00, ...,\n",
       "          1.65204527e+00, 2.80426391e+00, 2.50226486e-01],\n",
       "         [0.00000000e+00, 0.00000000e+00, 0.00000000e+00, ...,\n",
       "          0.00000000e+00, 1.25209656e+00, 1.18539836e-01]],\n",
       " \n",
       "        [[0.00000000e+00, 0.00000000e+00, 0.00000000e+00, ...,\n",
       "          1.30707288e+00, 2.88863724e+00, 3.24585885e+00],\n",
       "         [0.00000000e+00, 0.00000000e+00, 0.00000000e+00, ...,\n",
       "          1.18879606e+01, 8.84204252e+00, 3.92363356e+00],\n",
       "         [0.00000000e+00, 0.00000000e+00, 0.00000000e+00, ...,\n",
       "          2.35195698e+00, 8.52234342e-01, 8.17163778e-03],\n",
       "         [0.00000000e+00, 0.00000000e+00, 0.00000000e+00, ...,\n",
       "          0.00000000e+00, 2.47298128e-01, 1.49063126e-03]],\n",
       " \n",
       "        [[0.00000000e+00, 0.00000000e+00, 0.00000000e+00, ...,\n",
       "          2.30933164e+00, 3.06628785e+00, 2.08419977e+00],\n",
       "         [0.00000000e+00, 0.00000000e+00, 0.00000000e+00, ...,\n",
       "          8.65763062e+00, 1.14002761e+01, 4.68132202e+00],\n",
       "         [0.00000000e+00, 0.00000000e+00, 0.00000000e+00, ...,\n",
       "          1.13188331e+00, 2.34094332e+00, 1.91931737e+00],\n",
       "         [0.00000000e+00, 0.00000000e+00, 0.00000000e+00, ...,\n",
       "          0.00000000e+00, 0.00000000e+00, 4.37300159e-01]],\n",
       " \n",
       "        ...,\n",
       " \n",
       "        [[0.00000000e+00, 0.00000000e+00, 0.00000000e+00, ...,\n",
       "          5.19133556e+00, 8.61169375e-01, 1.29039363e+00],\n",
       "         [0.00000000e+00, 0.00000000e+00, 0.00000000e+00, ...,\n",
       "          1.00624595e+01, 1.09810839e+01, 1.36745369e+01],\n",
       "         [0.00000000e+00, 0.00000000e+00, 0.00000000e+00, ...,\n",
       "          1.15997465e+00, 1.31148860e+00, 1.07802660e-01],\n",
       "         [0.00000000e+00, 0.00000000e+00, 0.00000000e+00, ...,\n",
       "          5.63304594e-01, 7.14329569e-01, 1.57835236e-02]],\n",
       " \n",
       "        [[0.00000000e+00, 0.00000000e+00, 0.00000000e+00, ...,\n",
       "          2.89617552e+00, 2.24099886e+00, 3.53117837e+00],\n",
       "         [0.00000000e+00, 0.00000000e+00, 0.00000000e+00, ...,\n",
       "          6.59918141e+00, 7.18501063e+00, 9.79494959e+00],\n",
       "         [0.00000000e+00, 0.00000000e+00, 0.00000000e+00, ...,\n",
       "          1.47991219e+00, 3.57870387e-02, 2.95446740e-05],\n",
       "         [0.00000000e+00, 0.00000000e+00, 0.00000000e+00, ...,\n",
       "          0.00000000e+00, 0.00000000e+00, 0.00000000e+00]],\n",
       " \n",
       "        [[0.00000000e+00, 0.00000000e+00, 0.00000000e+00, ...,\n",
       "          4.43036828e+00, 2.36849943e+00, 1.47676592e+00],\n",
       "         [0.00000000e+00, 0.00000000e+00, 0.00000000e+00, ...,\n",
       "          1.10322770e+01, 9.29653974e+00, 6.87453575e+00],\n",
       "         [0.00000000e+00, 0.00000000e+00, 0.00000000e+00, ...,\n",
       "          1.67737802e+00, 4.93926614e-01, 8.58203933e-01],\n",
       "         [0.00000000e+00, 0.00000000e+00, 0.00000000e+00, ...,\n",
       "          0.00000000e+00, 0.00000000e+00, 0.00000000e+00]]]),\n",
       " array([[0.00000000e+00, 0.00000000e+00, 0.00000000e+00, 1.79941803e+00,\n",
       "         7.26274745e-02, 1.05574165e-04, 2.22750014e+00, 3.80554228e+00,\n",
       "         4.86258847e+00, 2.71827147e+00],\n",
       "        [0.00000000e+00, 0.00000000e+00, 0.00000000e+00, 5.11531105e+00,\n",
       "         2.60358775e+00, 2.58887695e-02, 6.40049208e+00, 6.44969507e+00,\n",
       "         9.34874577e+00, 4.94970450e+00],\n",
       "        [0.00000000e+00, 0.00000000e+00, 0.00000000e+00, 5.57894849e-01,\n",
       "         8.74666046e-03, 4.44408247e-06, 8.33465528e-01, 1.65204527e+00,\n",
       "         2.80426391e+00, 2.50226486e-01],\n",
       "        [0.00000000e+00, 0.00000000e+00, 0.00000000e+00, 0.00000000e+00,\n",
       "         0.00000000e+00, 0.00000000e+00, 0.00000000e+00, 0.00000000e+00,\n",
       "         1.25209656e+00, 1.18539836e-01]]))"
      ]
     },
     "execution_count": 12,
     "metadata": {},
     "output_type": "execute_result"
    }
   ],
   "source": [
    "AEV[:,:,0,:,0],AEV[0,:,0,:,0]"
   ]
  },
  {
   "cell_type": "code",
   "execution_count": 15,
   "metadata": {},
   "outputs": [
    {
     "data": {
      "text/plain": [
       "'Mon Feb 10 17:12:10 2020'"
      ]
     },
     "execution_count": 15,
     "metadata": {},
     "output_type": "execute_result"
    }
   ],
   "source": [
    "time.ctime(time.time())"
   ]
  },
  {
   "cell_type": "code",
   "execution_count": null,
   "metadata": {},
   "outputs": [],
   "source": []
  }
 ],
 "metadata": {
  "kernelspec": {
   "display_name": "Python 3",
   "language": "python",
   "name": "python3"
  },
  "language_info": {
   "codemirror_mode": {
    "name": "ipython",
    "version": 3
   },
   "file_extension": ".py",
   "mimetype": "text/x-python",
   "name": "python",
   "nbconvert_exporter": "python",
   "pygments_lexer": "ipython3",
   "version": "3.7.5"
  }
 },
 "nbformat": 4,
 "nbformat_minor": 2
}
